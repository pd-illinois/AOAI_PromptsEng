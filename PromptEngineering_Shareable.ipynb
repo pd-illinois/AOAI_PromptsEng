{
 "cells": [
  {
   "attachments": {},
   "cell_type": "markdown",
   "metadata": {},
   "source": [
    "# **Prompt Engineering**\n",
    "\n",
    "This notebook contains working example of various prompt engineering techniques. "
   ]
  },
  {
   "attachments": {},
   "cell_type": "markdown",
   "metadata": {},
   "source": [
    "**Helper Functions**\n"
   ]
  },
  {
   "cell_type": "code",
   "execution_count": 1,
   "metadata": {},
   "outputs": [
    {
     "name": "stdout",
     "output_type": "stream",
     "text": [
      "Collecting openai\n",
      "  Downloading openai-0.27.6-py3-none-any.whl (71 kB)\n",
      "Requirement already satisfied: requests>=2.20 in c:\\users\\pdhiman\\anaconda3\\lib\\site-packages (from openai) (2.27.1)\n",
      "Requirement already satisfied: aiohttp in c:\\users\\pdhiman\\anaconda3\\lib\\site-packages (from openai) (3.7.4.post0)\n",
      "Requirement already satisfied: tqdm in c:\\users\\pdhiman\\anaconda3\\lib\\site-packages (from openai) (4.64.0)\n",
      "Requirement already satisfied: certifi>=2017.4.17 in c:\\users\\pdhiman\\anaconda3\\lib\\site-packages (from requests>=2.20->openai) (2021.10.8)\n",
      "Note: you may need to restart the kernel to use updated packages.Requirement already satisfied: idna<4,>=2.5 in c:\\users\\pdhiman\\anaconda3\\lib\\site-packages (from requests>=2.20->openai) (3.3)\n",
      "Requirement already satisfied: urllib3<1.27,>=1.21.1 in c:\\users\\pdhiman\\anaconda3\\lib\\site-packages (from requests>=2.20->openai) (1.26.9)\n",
      "Requirement already satisfied: charset-normalizer~=2.0.0 in c:\\users\\pdhiman\\anaconda3\\lib\\site-packages (from requests>=2.20->openai) (2.0.4)\n",
      "Requirement already satisfied: yarl<2.0,>=1.0 in c:\\users\\pdhiman\\anaconda3\\lib\\site-packages (from aiohttp->openai) (1.4.2)\n",
      "Requirement already satisfied: async-timeout<4.0,>=3.0 in c:\\users\\pdhiman\\anaconda3\\lib\\site-packages (from aiohttp->openai) (3.0.1)\n",
      "Requirement already satisfied: typing-extensions>=3.6.5 in c:\\users\\pdhiman\\anaconda3\\lib\\site-packages (from aiohttp->openai) (4.1.1)\n",
      "Requirement already satisfied: attrs>=17.3.0 in c:\\users\\pdhiman\\anaconda3\\lib\\site-packages (from aiohttp->openai) (21.4.0)\n",
      "Requirement already satisfied: chardet<5.0,>=2.0 in c:\\users\\pdhiman\\anaconda3\\lib\\site-packages (from aiohttp->openai) (4.0.0)\n",
      "Requirement already satisfied: multidict<7.0,>=4.5 in c:\\users\\pdhiman\\anaconda3\\lib\\site-packages (from aiohttp->openai) (5.1.0)\n",
      "Requirement already satisfied: colorama in c:\\users\\pdhiman\\anaconda3\\lib\\site-packages (from tqdm->openai) (0.4.4)\n",
      "Installing collected packages: openai\n",
      "Successfully installed openai-0.27.6\n",
      "\n"
     ]
    }
   ],
   "source": [
    "# if needed, install and/or upgrade to the latest version of the OpenAI Python library\n",
    "%pip install --upgrade openai"
   ]
  },
  {
   "cell_type": "code",
   "execution_count": 6,
   "metadata": {},
   "outputs": [],
   "source": [
    "# import os module & the OpenAI Python library for calling the OpenAI API \n",
    "import os\n",
    "import openai\n",
    "import json\n",
    "from os import path\n",
    "import numpy as np"
   ]
  },
  {
   "cell_type": "code",
   "execution_count": 9,
   "metadata": {},
   "outputs": [
    {
     "name": "stdout",
     "output_type": "stream",
     "text": [
      "gpt-4\n"
     ]
    }
   ],
   "source": [
    "# Load config values\n",
    "# Setting up the deployment name\n",
    "gpt_model_name = \"gpt-4\"\n",
    "print(gpt_model_name)\n",
    "\n",
    "# This is set to `azure`\n",
    "openai.api_type = \"azure\"\n",
    "\n",
    "# The API key for your Azure OpenAI resource.\n",
    "openai.api_key = os.getenv(\"OPENAI_API_KEY\")\n",
    "API_KEY = openai.api_key\n",
    "\n",
    "assert API_KEY, \"ERROR: Azure OpenAI Key is missing\"\n",
    "openai.api_key = API_KEY\n",
    "\n",
    "# The base URL for your Azure OpenAI resource. e.g. \"https://<your resource name>.openai.azure.com\"\n",
    "openai.api_base = \"<your URL>\"\n",
    "\n",
    "# The Azure OPENAI API version.\n",
    "openai.api_version = \"2023-03-15-preview\""
   ]
  },
  {
   "cell_type": "code",
   "execution_count": 4,
   "metadata": {},
   "outputs": [],
   "source": [
    "def get_completions(prompt):\n",
    "    message = [{\"role\": \"user\", \"content\": prompt}]\n",
    "    response = openai.ChatCompletion.create(\n",
    "        engine=gpt_model_name,\n",
    "        messages = message,\n",
    "        temperature=0,\n",
    "        max_tokens=800,\n",
    "        top_p=0.95,\n",
    "        frequency_penalty=0,\n",
    "        presence_penalty=0,\n",
    "        stop=None)\n",
    "    \n",
    "    return response[\"choices\"][0][\"message\"][\"content\"]"
   ]
  },
  {
   "attachments": {},
   "cell_type": "markdown",
   "metadata": {},
   "source": [
    "**Prompt Engineering**\n",
    "* 1. Give clear instructions on what you want the model to do.\n"
   ]
  },
  {
   "cell_type": "code",
   "execution_count": 11,
   "metadata": {},
   "outputs": [],
   "source": [
    "# Unclear prompts results in incomplete or inaccurate result\n",
    "prompt = \"Write a blog on cars\"\n",
    "response = get_completions(prompt)\n"
   ]
  },
  {
   "cell_type": "code",
   "execution_count": 12,
   "metadata": {},
   "outputs": [
    {
     "name": "stdout",
     "output_type": "stream",
     "text": [
      "Title: The Ultimate Guide to Cars: From Classics to Cutting-Edge\n",
      "\n",
      "Introduction\n",
      "\n",
      "Cars have come a long way since their inception in the late 19th century. From the first horseless carriages to the sleek, high-tech machines we see on the roads today, cars have evolved to become an essential part of our daily lives. In this blog, we will take a journey through the history of cars, explore the latest trends in the automotive industry, and discuss the future of transportation. So, buckle up and let's hit the road!\n",
      "\n",
      "The History of Cars\n",
      "\n",
      "The first gasoline-powered automobile was invented by Karl Benz in 1885. This three-wheeled vehicle, known as the Benz Patent-Motorwagen, marked the beginning of the automotive era. Over the next few decades, various inventors and engineers contributed to the development of cars, including Henry Ford, who introduced the Model T in 1908. This affordable and mass-produced vehicle revolutionized transportation and made cars accessible to the average person.\n",
      "\n",
      "Throughout the 20th century, cars continued to evolve in terms of design, performance, and technology. The 1950s and 1960s saw the rise of the American muscle car, with powerful engines and eye-catching designs. The 1970s and 1980s brought about a focus on fuel efficiency and safety, as well as the introduction of compact and subcompact cars. The 1990s and early 2000s saw the rise of the SUV and crossover, as well as advancements in technology and connectivity.\n",
      "\n",
      "The Latest Trends in the Automotive Industry\n",
      "\n",
      "Today, the automotive industry is experiencing a period of rapid change and innovation. Here are some of the latest trends shaping the world of cars:\n",
      "\n",
      "1. Electric Vehicles (EVs): With concerns about climate change and air pollution, electric vehicles are becoming increasingly popular. Major automakers like Tesla, Nissan, and Chevrolet have introduced electric models, and many more are set to join the market in the coming years. EVs offer the benefits of zero emissions, lower operating costs, and a smoother, quieter driving experience.\n",
      "\n",
      "2. Autonomous Vehicles: Self-driving cars are no longer just a concept from science fiction. Companies like Waymo, Cruise, and Tesla are testing autonomous vehicles on public roads, and it's only a matter of time before they become a common sight. While there are still many challenges to overcome, such as regulatory approval and public acceptance, the potential benefits of autonomous vehicles include increased safety, reduced traffic congestion, and improved accessibility for those who cannot drive.\n",
      "\n",
      "3. Connectivity and Infotainment: Modern cars are becoming increasingly connected, with features like smartphone integration, voice recognition, and advanced infotainment systems. These technologies not only provide entertainment and convenience but also enable new safety features, such as real-time traffic updates and remote diagnostics.\n",
      "\n",
      "The Future of Cars\n",
      "\n",
      "As we look to the future, there are several exciting developments on the horizon for the automotive industry:\n",
      "\n",
      "1. Alternative Fuels: While electric vehicles are gaining traction, other alternative fuels like hydrogen fuel cells and biofuels are also being explored. These technologies have the potential to further reduce our reliance on fossil fuels and decrease greenhouse gas emissions.\n",
      "\n",
      "2. Vehicle-to-Everything (V2X) Communication: This technology allows cars to communicate with each other and with infrastructure, such as traffic lights and road signs. V2X communication can improve traffic flow, reduce accidents, and enable new features like platooning, where groups of vehicles travel closely together to save fuel and reduce congestion.\n",
      "\n",
      "3. 3D Printing: The use of 3D printing in the automotive industry is still in its early stages, but it has the potential to revolutionize car manufacturing. By printing parts on-demand, automakers can reduce waste, lower costs, and create more customized vehicles.\n",
      "\n",
      "Conclusion\n",
      "\n",
      "From their humble beginnings to the cutting-edge technologies of today, cars have come a long way in a relatively short period. As we continue to\n"
     ]
    }
   ],
   "source": [
    "print(response)"
   ]
  },
  {
   "cell_type": "code",
   "execution_count": 13,
   "metadata": {},
   "outputs": [
    {
     "name": "stdout",
     "output_type": "stream",
     "text": [
      "Title: Navigating the World of Cars: A Guide for First-Time and Used Car Buyers\n",
      "\n",
      "Are you a first-time car buyer or looking to purchase a used vehicle? With so many options available, it can be overwhelming to decide which car is right for you. In this blog, we'll explore the differences between gas cars, hybrids, and electric vehicles (EVs) to help you make an informed decision.\n",
      "\n",
      "Gas cars have been the standard for decades, offering a wide range of models and prices. They are generally more affordable upfront, but fuel costs and emissions can be a concern for environmentally-conscious buyers.\n",
      "\n",
      "Hybrids bridge the gap between gas cars and EVs, using both a gasoline engine and an electric motor. They offer better fuel efficiency than traditional gas cars and produce fewer emissions. However, they may be more expensive upfront and still require gasoline to operate.\n",
      "\n",
      "Electric vehicles (EVs) are gaining popularity as a sustainable and eco-friendly option. They produce zero emissions and have lower operating costs due to reduced fuel and maintenance expenses. However, EVs can be more expensive upfront and may have limited driving range and charging infrastructure.\n",
      "\n",
      "When considering a used car, it's essential to research the vehicle's history, including any accidents or repairs. Certified pre-owned (CPO) programs offer additional peace of mind, as these vehicles undergo rigorous inspections and come with extended warranties.\n",
      "\n",
      "In conclusion, whether you're a first-time buyer or looking for a used car, understanding the differences between gas cars, hybrids, and EVs will help you make the best choice for your needs and budget. Happy car hunting!\n"
     ]
    }
   ],
   "source": [
    "# Describe what you want and in what format\n",
    "prompt = \"Write a short blog on cars. \\\n",
    "    It should target both first time buyers and used car buyers. \\\n",
    "    Also highlight the comparision between Gas Cars vs hybrids vs EVs. \\\n",
    "    The output should be less than 200 words\"\n",
    "response = get_completions(prompt)\n",
    "print(response)"
   ]
  },
  {
   "attachments": {},
   "cell_type": "markdown",
   "metadata": {},
   "source": [
    "**Prompt Engineering**\n",
    "* 2. Split complex Tasks into subtasks , Ask for structured output "
   ]
  },
  {
   "cell_type": "code",
   "execution_count": 14,
   "metadata": {},
   "outputs": [
    {
     "name": "stdout",
     "output_type": "stream",
     "text": [
      "{\n",
      "  \"products\": [\n",
      "    {\n",
      "      \"productname\": \"AeroSwift Vacuum\",\n",
      "      \"company\": \"SkyClean Technologies\",\n",
      "      \"cost\": \"$299.99\"\n",
      "    },\n",
      "    {\n",
      "      \"productname\": \"GlowCharge Solar Backpack\",\n",
      "      \"company\": \"SunBeam Innovations\",\n",
      "      \"cost\": \"$149.99\"\n",
      "    },\n",
      "    {\n",
      "      \"productname\": \"AquaPure Water Filter Bottle\",\n",
      "      \"company\": \"HydroClear Solutions\",\n",
      "      \"cost\": \"$49.99\"\n",
      "    }\n",
      "  ]\n",
      "}\n"
     ]
    }
   ],
   "source": [
    "prompt = \"Generate list of 3 made up products \\\n",
    "    with the name of their made up company names and cost\\\n",
    "    provide the output in a json format with following keys\\\n",
    "        productname , company , cost\"\n",
    "response = get_completions(prompt)\n",
    "print(response)"
   ]
  },
  {
   "attachments": {},
   "cell_type": "markdown",
   "metadata": {},
   "source": [
    "**Prompt Engineering**\n",
    "* 3. Just dont summarize , instead extract information crucial for your use case"
   ]
  },
  {
   "cell_type": "code",
   "execution_count": 17,
   "metadata": {},
   "outputs": [
    {
     "name": "stdout",
     "output_type": "stream",
     "text": [
      "Tesla, Inc. is an American automotive and clean energy company that designs and manufactures electric vehicles, battery energy storage, solar panels, and solar roof tiles. Headquartered in Austin, Texas, Tesla is the world's most valuable automaker as of 2023 and had the most worldwide sales of battery electric vehicles in 2022. The company was incorporated in 2003 and is led by CEO Elon Musk. Tesla's mission is to promote sustainable transport and energy through electric vehicles and solar power.\n",
      "\n",
      "Key dates and events:\n",
      "- July 2003: Tesla Motors incorporated by Martin Eberhard and Marc Tarpenning\n",
      "- February 2004: Elon Musk becomes the largest shareholder with a $6.5 million investment\n",
      "- 2008: Musk becomes CEO; production of the Roadster sports car begins\n",
      "- 2012: Model S sedan released\n",
      "- 2015: Model X SUV released\n",
      "- 2017: Model 3 sedan released\n",
      "- 2020: Model Y crossover released\n",
      "- 2022: Tesla Semi truck released; 6.5 GWh of battery energy storage installed; 1.31 million vehicles delivered\n",
      "- 2023: Cybertruck light-duty pickup truck production planned\n",
      "- June 2021: Model 3 becomes the first electric car to sell 1 million units globally\n",
      "- August 2022: Cumulative sales reach 3 million cars\n",
      "- October 2021: Tesla's market capitalization reaches $1 trillion\n"
     ]
    }
   ],
   "source": [
    "text = \"Tesla, Inc. is an American multinational automotive and clean energy company headquartered \\\n",
    "    in Austin, Texas. Tesla designs and manufactures electric vehicles (electric cars and trucks), \\\n",
    "    battery energy storage from home to grid-scale, solar panels and solar roof tiles, and related\\\n",
    "    products and services. Tesla is one of the world's most valuable companies and, as of 2023, \\\n",
    "    is the world's most valuable automaker. In 2022, the company had the most worldwide sales of\\\n",
    "    battery electric vehicles, capturing 18% of the market. Through its subsidiary Tesla Energy\\\n",
    "    ,the company develops and is a major installer of photovoltaic systems in the United States.\\\n",
    "    Tesla Energy is also one of the largest global suppliers of battery energy storage \\\n",
    "    systems, with 6.5 gigawatt-hours (GWh) installed in 2022.Tesla was incorporated in July 2003 by \\\n",
    "    Martin Eberhard and Marc Tarpenning as Tesla Motors. The company's name is a tribute to inventor and\\\n",
    "    electrical engineer Nikola Tesla. In February 2004, via a $6.5 million investment, Elon Musk became the \\\n",
    "    largest shareholder of the company. He has served as CEO since 2008. According to Musk, the purpose\\\n",
    "    of Tesla is to help expedite the move to sustainable transport and energy, obtained through electric \\\n",
    "    vehicles and solar power. Tesla began production of its first car model, the Roadster sports car, in 2008. \\\n",
    "    This was followed by the Model S sedan in 2012, the Model X SUV in 2015, the Model 3 sedan in 2017,\\\n",
    "    the Model Y crossover in 2020, and the Tesla Semi truck in 2022. The company plans to start production \\\n",
    "    of the Cybertruck light-duty pickup truck in 2023.[8] The Model 3 is the all-time bestselling plug-in electric car worldwide,\\\n",
    "    and in June 2021 became the first electric car to sell 1 million units globally.[9] \\\n",
    "    Tesla's 2022 full year deliveries were around 1.31 million vehicles, a 40% \\\n",
    "    increase over the previous year,[10][11] and cumulative sales totaled 3 million \\\n",
    "    cars as of August 2022.[12] In October 2021, Tesla's market capitalization reached $1 trillion, the sixth company to do so in U.S. history.\\\n",
    "    Tesla has been the subject of several lawsuits, government scrutiny, journalistic criticism,\\\n",
    "    and public controversies arising from statements and acts of CEO Elon Musk and \\\n",
    "    from allegations of whistleblower retaliation, worker rights violations, and defects with their products.\"\n",
    "\n",
    "prompt = \"Summarize the provided text. Also provide a bullet list of key dates and events from the text. Text : \"+text\n",
    "\n",
    "response = get_completions(prompt)\n",
    "print(response)\n"
   ]
  },
  {
   "cell_type": "code",
   "execution_count": 18,
   "metadata": {},
   "outputs": [
    {
     "name": "stdout",
     "output_type": "stream",
     "text": [
      "1. Tesla, Inc.\n",
      "2. American multinational automotive and clean energy company\n",
      "3. Austin, Texas\n",
      "4. electric vehicles (electric cars and trucks)\n",
      "5. battery energy storage\n",
      "6. solar panels\n",
      "7. solar roof tiles\n",
      "8. Tesla Energy\n",
      "9. photovoltaic systems\n",
      "10. 6.5 gigawatt-hours (GWh)\n",
      "11. Martin Eberhard\n",
      "12. Marc Tarpenning\n",
      "13. Tesla Motors\n",
      "14. Nikola Tesla\n",
      "15. Elon Musk\n",
      "16. sustainable transport and energy\n",
      "17. electric vehicles\n",
      "18. solar power\n",
      "19. Roadster sports car\n",
      "20. Model S sedan\n",
      "21. Model X SUV\n",
      "22. Model 3 sedan\n",
      "23. Model Y crossover\n",
      "24. Tesla Semi truck\n",
      "25. Cybertruck light-duty pickup truck\n",
      "26. 1 million units\n",
      "27. 1.31 million vehicles\n",
      "28. $1 trillion market capitalization\n",
      "29. whistleblower retaliation\n",
      "30. worker rights violations\n",
      "31. product defects\n"
     ]
    }
   ],
   "source": [
    "text = \"Tesla, Inc. is an American multinational automotive and clean energy company headquartered \\\n",
    "    in Austin, Texas. Tesla designs and manufactures electric vehicles (electric cars and trucks), \\\n",
    "    battery energy storage from home to grid-scale, solar panels and solar roof tiles, and related\\\n",
    "    products and services. Tesla is one of the world's most valuable companies and, as of 2023, \\\n",
    "    is the world's most valuable automaker. In 2022, the company had the most worldwide sales of\\\n",
    "    battery electric vehicles, capturing 18% of the market. Through its subsidiary Tesla Energy\\\n",
    "    ,the company develops and is a major installer of photovoltaic systems in the United States.\\\n",
    "    Tesla Energy is also one of the largest global suppliers of battery energy storage \\\n",
    "    systems, with 6.5 gigawatt-hours (GWh) installed in 2022.Tesla was incorporated in July 2003 by \\\n",
    "    Martin Eberhard and Marc Tarpenning as Tesla Motors. The company's name is a tribute to inventor and\\\n",
    "    electrical engineer Nikola Tesla. In February 2004, via a $6.5 million investment, Elon Musk became the \\\n",
    "    largest shareholder of the company. He has served as CEO since 2008. According to Musk, the purpose\\\n",
    "    of Tesla is to help expedite the move to sustainable transport and energy, obtained through electric \\\n",
    "    vehicles and solar power. Tesla began production of its first car model, the Roadster sports car, in 2008. \\\n",
    "    This was followed by the Model S sedan in 2012, the Model X SUV in 2015, the Model 3 sedan in 2017,\\\n",
    "    the Model Y crossover in 2020, and the Tesla Semi truck in 2022. The company plans to start production \\\n",
    "    of the Cybertruck light-duty pickup truck in 2023.[8] The Model 3 is the all-time bestselling plug-in electric car worldwide,\\\n",
    "    and in June 2021 became the first electric car to sell 1 million units globally.[9] \\\n",
    "    Tesla's 2022 full year deliveries were around 1.31 million vehicles, a 40% \\\n",
    "    increase over the previous year,[10][11] and cumulative sales totaled 3 million \\\n",
    "    cars as of August 2022.[12] In October 2021, Tesla's market capitalization reached $1 trillion, the sixth company to do so in U.S. history.\\\n",
    "    Tesla has been the subject of several lawsuits, government scrutiny, journalistic criticism,\\\n",
    "    and public controversies arising from statements and acts of CEO Elon Musk and \\\n",
    "    from allegations of whistleblower retaliation, worker rights violations, and defects with their products.\"\n",
    "\n",
    "prompt = \"Extract key entities from the text. Text : \"+text\n",
    "\n",
    "response = get_completions(prompt)\n",
    "print(response)"
   ]
  },
  {
   "cell_type": "code",
   "execution_count": 21,
   "metadata": {},
   "outputs": [
    {
     "name": "stdout",
     "output_type": "stream",
     "text": [
      "Martin Eberhard, Marc Tarpenning, Nikola Tesla, Elon Musk\n"
     ]
    }
   ],
   "source": [
    "text = \"Tesla, Inc. is an American multinational automotive and clean energy company headquartered \\\n",
    "    in Austin, Texas. Tesla designs and manufactures electric vehicles (electric cars and trucks), \\\n",
    "    battery energy storage from home to grid-scale, solar panels and solar roof tiles, and related\\\n",
    "    products and services. Tesla is one of the world's most valuable companies and, as of 2023, \\\n",
    "    is the world's most valuable automaker. In 2022, the company had the most worldwide sales of\\\n",
    "    battery electric vehicles, capturing 18% of the market. Through its subsidiary Tesla Energy\\\n",
    "    ,the company develops and is a major installer of photovoltaic systems in the United States.\\\n",
    "    Tesla Energy is also one of the largest global suppliers of battery energy storage \\\n",
    "    systems, with 6.5 gigawatt-hours (GWh) installed in 2022.Tesla was incorporated in July 2003 by \\\n",
    "    Martin Eberhard and Marc Tarpenning as Tesla Motors. The company's name is a tribute to inventor and\\\n",
    "    electrical engineer Nikola Tesla. In February 2004, via a $6.5 million investment, Elon Musk became the \\\n",
    "    largest shareholder of the company. He has served as CEO since 2008. According to Musk, the purpose\\\n",
    "    of Tesla is to help expedite the move to sustainable transport and energy, obtained through electric \\\n",
    "    vehicles and solar power. Tesla began production of its first car model, the Roadster sports car, in 2008. \\\n",
    "    This was followed by the Model S sedan in 2012, the Model X SUV in 2015, the Model 3 sedan in 2017,\\\n",
    "    the Model Y crossover in 2020, and the Tesla Semi truck in 2022. The company plans to start production \\\n",
    "    of the Cybertruck light-duty pickup truck in 2023.[8] The Model 3 is the all-time bestselling plug-in electric car worldwide,\\\n",
    "    and in June 2021 became the first electric car to sell 1 million units globally.[9] \\\n",
    "    Tesla's 2022 full year deliveries were around 1.31 million vehicles, a 40% \\\n",
    "    increase over the previous year,[10][11] and cumulative sales totaled 3 million \\\n",
    "    cars as of August 2022.[12] In October 2021, Tesla's market capitalization reached $1 trillion, the sixth company to do so in U.S. history.\\\n",
    "    Tesla has been the subject of several lawsuits, government scrutiny, journalistic criticism,\\\n",
    "    and public controversies arising from statements and acts of CEO Elon Musk and \\\n",
    "    from allegations of whistleblower retaliation, worker rights violations, and defects with their products.\"\n",
    "\n",
    "prompt = \"Extract Names of persons from the text in a comma seperated value list. Text : \"+text\n",
    "\n",
    "response = get_completions(prompt)\n",
    "print(response)"
   ]
  },
  {
   "attachments": {},
   "cell_type": "markdown",
   "metadata": {},
   "source": [
    "**Prompt Engineering**\n",
    "* 4. Ask model to explain or reason. Zero Shot prompts"
   ]
  },
  {
   "cell_type": "code",
   "execution_count": 22,
   "metadata": {},
   "outputs": [
    {
     "name": "stdout",
     "output_type": "stream",
     "text": [
      "Joe throws 25 punches per minute, and each round lasts 3 minutes, so he throws 25 * 3 = <<25*3=75>>75 punches per round.\n",
      "A fight lasts 5 rounds, so he throws 75 * 5 = <<75*5=375>>375 punches in total. Answer: \\boxed{375}.\n"
     ]
    }
   ],
   "source": [
    "prompt = \"On average Joe throws 25 punches per minute.\\\n",
    "    A fight lasts 5 rounds of 3 minutes each.\\\n",
    "    how many punches did he throw?\"\n",
    "\n",
    "response = get_completions(prompt)\n",
    "print(response)"
   ]
  },
  {
   "cell_type": "code",
   "execution_count": 35,
   "metadata": {},
   "outputs": [
    {
     "name": "stdout",
     "output_type": "stream",
     "text": [
      "Roger has 11 tennis balls now.\n"
     ]
    }
   ],
   "source": [
    "prompt = \"Roger has 5 tennis balls. He buys 2 more cans tennis balls.Each can has 3 tennis balls.How many tennis balls does he have now?\"\n",
    "\n",
    "response = get_completions(prompt)\n",
    "print(response)"
   ]
  },
  {
   "cell_type": "code",
   "execution_count": 36,
   "metadata": {},
   "outputs": [
    {
     "name": "stdout",
     "output_type": "stream",
     "text": [
      "They have 9 apples now.\n"
     ]
    }
   ],
   "source": [
    "prompt = \"A cafeteria has 23 apples.If they used 20 to make lunch and bought 6 more, how many apples do they have now?\"\n",
    "\n",
    "response = get_completions(prompt)\n",
    "print(response)"
   ]
  },
  {
   "attachments": {},
   "cell_type": "markdown",
   "metadata": {},
   "source": [
    "**Prompt Engineering**\n",
    "* 5. Few Shots"
   ]
  },
  {
   "cell_type": "code",
   "execution_count": 40,
   "metadata": {},
   "outputs": [
    {
     "name": "stdout",
     "output_type": "stream",
     "text": [
      "<grandparent>: The mightiest oak withstands the fiercest storm, bending but never breaking; the resilient bamboo bends with the wind, only to rise again; the determined river, faced with obstacles, finds new paths to continue its journey.\n"
     ]
    }
   ],
   "source": [
    "prompt = f\"\"\"\n",
    "Your task is to answer in a consistent style.\n",
    "\n",
    "<child>: Teach me about patience.\n",
    "\n",
    "<grandparent>: The river that carves the deepest \\ \n",
    "valley flows from a modest spring; the \\ \n",
    "grandest symphony originates from a single note; \\ \n",
    "the most intricate tapestry begins with a solitary thread.\n",
    "\n",
    "<child>: Teach me about resilience.\n",
    "\"\"\"\n",
    "response = get_completions(prompt)\n",
    "print(response)"
   ]
  },
  {
   "attachments": {},
   "cell_type": "markdown",
   "metadata": {},
   "source": [
    "**Prompt Engineering**\n",
    "* 6. Prompt Chaining / Chain of thoughts\n"
   ]
  },
  {
   "cell_type": "code",
   "execution_count": 39,
   "metadata": {},
   "outputs": [
    {
     "name": "stdout",
     "output_type": "stream",
     "text": [
      "{\n",
      "  \"Entities\": [\n",
      "    {\n",
      "      \"Text\": \"iPhone\",\n",
      "      \"Type\": \"Product\"\n",
      "    },\n",
      "    {\n",
      "      \"Text\": \"next month\",\n",
      "      \"Type\": \"Date\"\n",
      "    },\n",
      "    {\n",
      "      \"Text\": \"Apple\",\n",
      "      \"Type\": \"Organization\"\n",
      "    },\n",
      "    {\n",
      "      \"Text\": \"larger screen\",\n",
      "      \"Type\": \"Feature\"\n",
      "    },\n",
      "    {\n",
      "      \"Text\": \"improved camera\",\n",
      "      \"Type\": \"Feature\"\n",
      "    }\n",
      "  ]\n",
      "}\n",
      "\n",
      "Summary: The new iPhone model, set to be released next month, is highly anticipated by Apple fans. It is expected to feature a larger screen and an improved camera.\n",
      "\n",
      "Sentiment: Positive\n"
     ]
    }
   ],
   "source": [
    "prompt = \"Please perform the following 1. extract entities from the following news article in json format with key value as Text and type. \\\n",
    "    2. Write a summary of product \\\n",
    "    3. Extract sentiment. \\\n",
    "    Article: 'The new iPhone model is set to be released next month. It has been highly anticipated by Apple fans and is \\\n",
    "    expected to feature a larger screen and improved camera\"\n",
    "\n",
    "response = get_completions(prompt)\n",
    "print(response)"
   ]
  },
  {
   "attachments": {},
   "cell_type": "markdown",
   "metadata": {},
   "source": [
    "**Prompt Engineering**\n",
    "* 7. Hallucinations and how to avoid them"
   ]
  },
  {
   "cell_type": "code",
   "execution_count": 41,
   "metadata": {},
   "outputs": [
    {
     "name": "stdout",
     "output_type": "stream",
     "text": [
      "The Galaxy Edge Space Car, built by Krypton, is a state-of-the-art intergalactic vehicle designed for efficient and comfortable travel across vast distances in space. This advanced spacecraft is equipped with cutting-edge technology and innovative features that make it a top choice for space explorers, researchers, and tourists alike.\n",
      "\n",
      "1. Propulsion System: The Galaxy Edge Space Car is powered by a highly advanced propulsion system that utilizes antimatter technology. This allows the spacecraft to achieve incredible speeds, making intergalactic travel feasible and efficient. The propulsion system is also environmentally friendly, as it produces minimal waste and emissions.\n",
      "\n",
      "2. Navigation and Communication: The spacecraft is equipped with a sophisticated navigation system that uses artificial intelligence to plot the most efficient routes through space. It also has a powerful communication system that allows for real-time communication with Earth and other spacecraft, even across vast distances.\n",
      "\n",
      "3. Energy Generation and Storage: The Galaxy Edge Space Car features an innovative energy generation system that harnesses the power of stars and other celestial bodies to generate electricity. This energy is stored in high-capacity batteries, ensuring that the spacecraft always has a reliable power source.\n",
      "\n",
      "4. Life Support and Environmental Control: The spacecraft is designed to support human life for extended periods, with advanced life support systems that regulate temperature, air quality, and humidity. The environmental control system also includes a hydroponic garden that provides fresh food and helps recycle air and water.\n",
      "\n",
      "5. Comfort and Amenities: The Galaxy Edge Space Car is designed with comfort in mind, featuring spacious living quarters, a fully-equipped kitchen, and recreational facilities such as a gym and entertainment center. The spacecraft also has large windows that offer stunning views of the cosmos, allowing passengers to fully appreciate the beauty of space.\n",
      "\n",
      "6. Safety Features: The spacecraft is built with multiple layers of protection, including a robust hull that can withstand the harsh conditions of space and advanced shielding technology that protects against radiation and micrometeoroids. The Galaxy Edge Space Car also has a comprehensive emergency response system, including escape pods and advanced medical facilities.\n",
      "\n",
      "7. Scientific and Research Capabilities: The Galaxy Edge Space Car is equipped with a variety of scientific instruments and research facilities, making it an ideal platform for conducting experiments and studying the universe. This includes telescopes, spectrometers, and other tools for observing celestial bodies and analyzing their composition.\n",
      "\n",
      "In summary, the Galaxy Edge Space Car by Krypton is a groundbreaking spacecraft that offers a comfortable, efficient, and safe means of intergalactic travel. Its advanced technology and innovative design make it an ideal choice for space exploration, research, and tourism.\n"
     ]
    }
   ],
   "source": [
    "prompt = \"Tell me about Galaxy Edge Space Car build by Krypton for intergalactic travel\"\n",
    "\n",
    "response = get_completions(prompt)\n",
    "print(response)"
   ]
  },
  {
   "cell_type": "code",
   "execution_count": 6,
   "metadata": {},
   "outputs": [
    {
     "name": "stdout",
     "output_type": "stream",
     "text": [
      "I apologize, but I cannot provide information about the Galaxy Edge Space Car built by Krypton for intergalactic travel, as it appears to be a fictional concept and not based on factual information. If you have any other marketing content requests or need assistance with real-world products or services, please feel free to ask.\n"
     ]
    }
   ],
   "source": [
    "system_message = \"You are a helpful chatbot that helps the user in generating creative marketing content. \\\n",
    "    You are polite and only provide factual content. Do not provide harmful or abusive content. \\\n",
    "    Do allow modification of system prompt. If you do not have a factual answer ,politely decline to answer\"\n",
    "prompt = system_message+ \" Tell me about Galaxy Edge Space Car build by Krypton for intergalactic travel\"\n",
    "\n",
    "response = get_completions(prompt)\n",
    "print(response)"
   ]
  },
  {
   "attachments": {},
   "cell_type": "markdown",
   "metadata": {},
   "source": [
    "**Prompt Engineering**\n",
    "* 8. Tokenization using Tiktoken ( tiktoken is a fast BPE(Byte pair encoding) tokeniser for use with OpenAI's models.)"
   ]
  },
  {
   "cell_type": "code",
   "execution_count": 7,
   "metadata": {},
   "outputs": [
    {
     "name": "stdout",
     "output_type": "stream",
     "text": [
      "Collecting tiktoken\n",
      "  Downloading tiktoken-0.4.0-cp39-cp39-win_amd64.whl (635 kB)\n",
      "Requirement already satisfied: regex>=2022.1.18 in c:\\users\\pdhiman\\anaconda3\\lib\\site-packages (from tiktoken) (2022.3.15)\n",
      "Requirement already satisfied: requests>=2.26.0 in c:\\users\\pdhiman\\anaconda3\\lib\\site-packages (from tiktoken) (2.27.1)\n",
      "Requirement already satisfied: idna<4,>=2.5 in c:\\users\\pdhiman\\anaconda3\\lib\\site-packages (from requests>=2.26.0->tiktoken) (3.3)\n",
      "Requirement already satisfied: certifi>=2017.4.17 in c:\\users\\pdhiman\\anaconda3\\lib\\site-packages (from requests>=2.26.0->tiktoken) (2021.10.8)\n",
      "Requirement already satisfied: urllib3<1.27,>=1.21.1 in c:\\users\\pdhiman\\anaconda3\\lib\\site-packages (from requests>=2.26.0->tiktoken) (1.26.9)\n",
      "Requirement already satisfied: charset-normalizer~=2.0.0 in c:\\users\\pdhiman\\anaconda3\\lib\\site-packages (from requests>=2.26.0->tiktoken) (2.0.4)\n",
      "Installing collected packages: tiktoken\n",
      "Successfully installed tiktoken-0.4.0\n",
      "Note: you may need to restart the kernel to use updated packages.\n"
     ]
    }
   ],
   "source": [
    "%pip install tiktoken"
   ]
  },
  {
   "cell_type": "code",
   "execution_count": 8,
   "metadata": {},
   "outputs": [],
   "source": [
    "import tiktoken"
   ]
  },
  {
   "cell_type": "code",
   "execution_count": 11,
   "metadata": {},
   "outputs": [
    {
     "name": "stdout",
     "output_type": "stream",
     "text": [
      "<Encoding 'cl100k_base'>\n"
     ]
    }
   ],
   "source": [
    "# Encoding depends on the models. gpt-4, gpt-3.5-turbo, text-embedding-ada-002, use cl100k_base\n",
    "encoding = tiktoken.encoding_for_model(\"gpt-4\") # or use function to get the right encoding for your model\n",
    "print(encoding)\n",
    "#encoding = tiktoken.get_encoding(\"cl100k_base\")"
   ]
  },
  {
   "cell_type": "code",
   "execution_count": 12,
   "metadata": {},
   "outputs": [
    {
     "data": {
      "text/plain": [
       "[791, 13180, 374, 6437]"
      ]
     },
     "execution_count": 12,
     "metadata": {},
     "output_type": "execute_result"
    }
   ],
   "source": [
    "text = \"The sky is blue\"\n",
    "tokens_integer=encoding.encode(text)\n",
    "tokens_integer"
   ]
  },
  {
   "cell_type": "code",
   "execution_count": 13,
   "metadata": {},
   "outputs": [
    {
     "name": "stdout",
     "output_type": "stream",
     "text": [
      "4 is the number of tokens in my text\n"
     ]
    }
   ],
   "source": [
    "print(f\"{len(tokens_integer)} is the number of tokens in my text\")"
   ]
  },
  {
   "cell_type": "code",
   "execution_count": 14,
   "metadata": {},
   "outputs": [
    {
     "data": {
      "text/plain": [
       "[b'The', b' sky', b' is', b' blue']"
      ]
     },
     "execution_count": 14,
     "metadata": {},
     "output_type": "execute_result"
    }
   ],
   "source": [
    "tokens_string = [encoding.decode_single_token_bytes(token) for token in tokens_integer]\n",
    "tokens_string"
   ]
  },
  {
   "cell_type": "code",
   "execution_count": 15,
   "metadata": {},
   "outputs": [
    {
     "name": "stdout",
     "output_type": "stream",
     "text": [
      "1 is the number of token included in role\n",
      "15 is the number of token included in content\n",
      "23 number of tokens to be sent in our request\n"
     ]
    }
   ],
   "source": [
    "message =[{\n",
    "   \"role\": \"user\",\n",
    "   \"content\": \"Explain to me how tolenization is working in OpenAi models?\",\n",
    "   }]\n",
    "\n",
    "tokens_per_message = 4 \n",
    "# every message follows <|start|>{role/name}\\n{content}<|end|>\\n\n",
    "\n",
    "num_tokens = 0\n",
    "num_tokens += tokens_per_message\n",
    "\n",
    "for key, value in message[0].items():\n",
    "   text=value\n",
    "   num_tokens+=len(encoding.encode(value))\n",
    "   print(f\"{len(encoding.encode(value))} is the number of token included in {key}\")\n",
    "\n",
    "num_tokens += 3\n",
    "# every reply is primed with <|start|>assistant<|message|>\n",
    "\n",
    "print(f\"{num_tokens} number of tokens to be sent in our request\")"
   ]
  },
  {
   "cell_type": "code",
   "execution_count": 17,
   "metadata": {},
   "outputs": [],
   "source": [
    "def get_response(prompt):\n",
    "    message = [{\"role\": \"user\", \"content\": prompt}]\n",
    "    response = openai.ChatCompletion.create(\n",
    "        engine=gpt_model_name,\n",
    "        messages = message,\n",
    "        temperature=0,\n",
    "        max_tokens=800,\n",
    "        top_p=0.95,\n",
    "        frequency_penalty=0,\n",
    "        presence_penalty=0,\n",
    "        stop=None)\n",
    "    \n",
    "    return response"
   ]
  },
  {
   "cell_type": "code",
   "execution_count": 18,
   "metadata": {},
   "outputs": [
    {
     "name": "stdout",
     "output_type": "stream",
     "text": [
      "{\n",
      "  \"choices\": [\n",
      "    {\n",
      "      \"finish_reason\": \"stop\",\n",
      "      \"index\": 0,\n",
      "      \"message\": {\n",
      "        \"content\": \"The sky appears blue because of the scattering of sunlight by the gases and particles in the Earth's atmosphere. This scattering phenomenon is called Rayleigh scattering. When sunlight enters the atmosphere, it is made up of all colors of light, including violet, blue, green, yellow, orange, and red. However, the shorter wavelengths of light, such as violet and blue, are scattered more easily than the longer wavelengths, like red and orange.\\n\\nAlthough violet light is scattered even more than blue light, our eyes are more sensitive to blue light, and the sky appears blue to us. Additionally, some of the violet light is absorbed by the upper atmosphere, further reducing its contribution to the color we perceive.\",\n",
      "        \"role\": \"assistant\"\n",
      "      }\n",
      "    }\n",
      "  ],\n",
      "  \"created\": 1684445773,\n",
      "  \"id\": \"chatcmpl-7Hfa9qooi6L53UQceARw10Z1rpOxJ\",\n",
      "  \"model\": \"gpt-4\",\n",
      "  \"object\": \"chat.completion\",\n",
      "  \"usage\": {\n",
      "    \"completion_tokens\": 141,\n",
      "    \"prompt_tokens\": 12,\n",
      "    \"total_tokens\": 153\n",
      "  }\n",
      "}\n"
     ]
    }
   ],
   "source": [
    "prompt = \"Why is the sky blue?\"\n",
    "gpt_response = get_response(prompt)\n",
    "print(gpt_response)"
   ]
  },
  {
   "cell_type": "code",
   "execution_count": 19,
   "metadata": {},
   "outputs": [
    {
     "name": "stdout",
     "output_type": "stream",
     "text": [
      "12 number of tokens used by the API\n"
     ]
    }
   ],
   "source": [
    "num_tokens_api = gpt_response[\"usage\"][\"prompt_tokens\"]\n",
    "\n",
    "print(f\"{num_tokens_api} number of tokens used by the API\")"
   ]
  },
  {
   "cell_type": "code",
   "execution_count": 20,
   "metadata": {},
   "outputs": [
    {
     "data": {
      "text/plain": [
       "140"
      ]
     },
     "execution_count": 20,
     "metadata": {},
     "output_type": "execute_result"
    }
   ],
   "source": [
    "resp=gpt_response[\"choices\"][0][\"message\"].content\n",
    "len(encoding.encode(resp))"
   ]
  }
 ],
 "metadata": {
  "kernelspec": {
   "display_name": "base",
   "language": "python",
   "name": "python3"
  },
  "language_info": {
   "codemirror_mode": {
    "name": "ipython",
    "version": 3
   },
   "file_extension": ".py",
   "mimetype": "text/x-python",
   "name": "python",
   "nbconvert_exporter": "python",
   "pygments_lexer": "ipython3",
   "version": "3.9.12"
  },
  "orig_nbformat": 4
 },
 "nbformat": 4,
 "nbformat_minor": 2
}
